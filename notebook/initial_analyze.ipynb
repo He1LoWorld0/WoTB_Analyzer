{
 "cells": [
  {
   "cell_type": "markdown",
   "id": "9b0a1295-5281-478e-8a39-b09f52a82171",
   "metadata": {},
   "source": [
    "# WoTb Replay バイナリデータ解析"
   ]
  },
  {
   "cell_type": "code",
   "execution_count": 1,
   "id": "6335f1e4-80ed-4d1f-bd8f-54ca632e6f4c",
   "metadata": {},
   "outputs": [],
   "source": [
    "import zipfile\n",
    "import shutil\n",
    "import json\n",
    "import os\n",
    "import sys"
   ]
  },
  {
   "cell_type": "code",
   "execution_count": 18,
   "id": "b6e286f7-816c-4024-991c-340fecf0d679",
   "metadata": {},
   "outputs": [],
   "source": [
    "def get_meta(zip_file):\n",
    "    my_zip = zipfile.ZipFile(zip_file)\n",
    "    meta = json.load(my_zip.open('meta.json'))\n",
    "    return meta\n",
    "\n",
    "\n",
    "def rename(file_name):\n",
    "    shutil.copyfile(file_name, 'temp.zip')\n",
    "    meta = get_meta('temp.zip')\n",
    "    map_name = meta['mapName']\n",
    "    os.rename('temp.zip', f'{map_name}.zip')"
   ]
  },
  {
   "cell_type": "code",
   "execution_count": 19,
   "id": "f241e9b8-c78e-4e6f-90d2-3cdf81c554a7",
   "metadata": {},
   "outputs": [],
   "source": []
  },
  {
   "cell_type": "code",
   "execution_count": 25,
   "id": "6976e928-e6d9-4cf3-b8a1-fbee9d96bdef",
   "metadata": {},
   "outputs": [
    {
     "name": "stdout",
     "output_type": "stream",
     "text": [
      "b'PK\\x03\\x04'\n"
     ]
    }
   ],
   "source": [
    "print(data[0:4])"
   ]
  },
  {
   "cell_type": "markdown",
   "id": "1c1f5f8b-02b2-465d-9deb-63be98a05458",
   "metadata": {},
   "source": [
    "WoTのリプレイデータは先頭のバイナリがPKであることから、zip形式であることが予想できる。更に\n",
    "https://stackoverflow.com/questions/59087986/extracting-data-from-wotreplay-fileを参照して\n",
    "\n",
    "- Ignore first 8 bytes (1-8)\n",
    "- Read the next 4 bytes (9-12) as an int. This is the length of the first chunk, which is the one you need. Let's refer to it as chuck1length.\n",
    "- Read the next chuck1length bytes (starting from byte 13) as a String.\n",
    "- Parse the string as JSON.\n",
    "\n",
    "によると、複数のパケットからなり、それぞれの先頭にはパケットのサイズが格納されているっぽい。これに従って一旦配列から、jsonが生成できるか試してみる。"
   ]
  },
  {
   "cell_type": "code",
   "execution_count": null,
   "id": "aebced99-c53c-49e2-b3b6-9a74a4e9abeb",
   "metadata": {},
   "outputs": [],
   "source": [
    "y=b'\\x01\\x00'\n",
    "print(int.from_bytes(y, byteorder = \"big\"))"
   ]
  },
  {
   "cell_type": "code",
   "execution_count": 40,
   "id": "5786925b-913f-467c-b419-8730b25a6134",
   "metadata": {},
   "outputs": [],
   "source": [
    "offset_byte = data[0:7]\n",
    "first_head_size = data[8:11]\n",
    "meta_json = data[30:39]"
   ]
  },
  {
   "cell_type": "code",
   "execution_count": 29,
   "id": "36063f0c-be7e-4745-ab1f-c9966ae983dc",
   "metadata": {},
   "outputs": [
    {
     "name": "stdout",
     "output_type": "stream",
     "text": [
      "b'\\x08\\x00\\xf6'\n"
     ]
    }
   ],
   "source": [
    "print(first_head_size)"
   ]
  },
  {
   "cell_type": "code",
   "execution_count": 33,
   "id": "e48ee622-2ced-4c04-8af1-48c8516c186f",
   "metadata": {},
   "outputs": [
    {
     "name": "stdout",
     "output_type": "stream",
     "text": [
      "16121864\n"
     ]
    }
   ],
   "source": [
    "print(int.from_bytes(first_head_size, byteorder = \"little\"))"
   ]
  },
  {
   "cell_type": "code",
   "execution_count": 37,
   "id": "0efa17e1-7f84-4b8a-97ab-8d5a18754866",
   "metadata": {},
   "outputs": [
    {
     "name": "stdout",
     "output_type": "stream",
     "text": [
      "215888\n"
     ]
    }
   ],
   "source": [
    "first_4_bytes = data[0:3]\n",
    "print(int.from_bytes(first_4_bytes, byteorder = \"little\"))"
   ]
  },
  {
   "cell_type": "code",
   "execution_count": 41,
   "id": "2ba558ae-6a95-4210-a2ce-a7ae25fdb3d6",
   "metadata": {},
   "outputs": [
    {
     "name": "stdout",
     "output_type": "stream",
     "text": [
      "b'meta.json'\n"
     ]
    }
   ],
   "source": [
    "print(meta_json)"
   ]
  },
  {
   "cell_type": "code",
   "execution_count": null,
   "id": "b419653f-2bd4-4de3-aa50-2f599b4388cf",
   "metadata": {},
   "outputs": [],
   "source": []
  }
 ],
 "metadata": {
  "kernelspec": {
   "name": "python377jvsc74a57bd08251ed2ec38273054ed538544d3eef9c50aded12118c1a201b3dae91e041c58e",
   "display_name": "Python 3.7.7 64-bit"
  },
  "language_info": {
   "codemirror_mode": {
    "name": "ipython",
    "version": 3
   },
   "file_extension": ".py",
   "mimetype": "text/x-python",
   "name": "python",
   "nbconvert_exporter": "python",
   "pygments_lexer": "ipython3",
   "version": "3.7.7"
  }
 },
 "nbformat": 4,
 "nbformat_minor": 5
}